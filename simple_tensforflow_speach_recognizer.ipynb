{
  "nbformat": 4,
  "nbformat_minor": 0,
  "metadata": {
    "colab": {
      "name": "simple tensforflow speach recognizer.ipynb",
      "version": "0.3.2",
      "provenance": []
    },
    "kernelspec": {
      "name": "python3",
      "display_name": "Python 3"
    }
  },
  "cells": [
    {
      "cell_type": "code",
      "metadata": {
        "id": "HIWcmUhCMvXw",
        "colab_type": "code",
        "colab": {}
      },
      "source": [
        "from __future__ import division, print_function, absolute_import\n",
        "import tflearn\n",
        "import speech_data\n",
        "import tensorflow as tf\n",
        "\n"
      ],
      "execution_count": 0,
      "outputs": []
    },
    {
      "cell_type": "code",
      "metadata": {
        "id": "iUTA_HIAMxo8",
        "colab_type": "code",
        "colab": {}
      },
      "source": [
        "\n",
        "learning_rate = 0.0001\n",
        "training_iters = 300000  # steps\n",
        "batch_size = 64\n",
        "\n",
        "width = 20  # mfcc features\n",
        "height = 80  # (max) length of utterance\n",
        "classes = 10  # digits\n",
        "\n",
        "batch = word_batch = speech_data.mfcc_batch_generator(batch_size)\n",
        "X, Y = next(batch)\n",
        "trainX, trainY = X, Y\n",
        "testX, testY = X, Y #overfit for now\n",
        "\n",
        "# Network building\n",
        "net = tflearn.input_data([None, width, height])\n",
        "net = tflearn.lstm(net, 128, dropout=0.8)\n",
        "net = tflearn.fully_connected(net, classes, activation='softmax')\n",
        "net = tflearn.regression(net, optimizer='adam', learning_rate=learning_rate, loss='categorical_crossentropy')\n",
        "# Training\n",
        "\n",
        "### add this \"fix\" for tensorflow version errors\n",
        "col = tf.get_collection(tf.GraphKeys.TRAINABLE_VARIABLES)\n",
        "for x in col:\n",
        "    tf.add_to_collection(tf.GraphKeys.VARIABLES, x ) \n",
        "\n",
        "\n",
        "model = tflearn.DNN(net, tensorboard_verbose=0)\n",
        "while 1: #training_iters\n",
        "  model.fit(trainX, trainY, n_epoch=10, validation_set=(testX, testY), show_metric=True,\n",
        "          batch_size=batch_size)\n",
        "  _y=model.predict(X)\n",
        "model.save(\"tflearn.lstm.model\")\n",
        "print (_y)\n",
        "print (y)"
      ],
      "execution_count": 0,
      "outputs": []
    },
    {
      "cell_type": "code",
      "metadata": {
        "id": "cETBDin7NnOC",
        "colab_type": "code",
        "colab": {}
      },
      "source": [
        ""
      ],
      "execution_count": 0,
      "outputs": []
    }
  ]
}